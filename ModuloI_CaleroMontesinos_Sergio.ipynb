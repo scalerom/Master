{
 "cells": [
  {
   "cell_type": "code",
   "execution_count": 81,
   "metadata": {},
   "outputs": [],
   "source": [
    "def GetSentimientos(fileName):\n",
    "    try:\n",
    "        fileSent=open(fileName)\n",
    "        valores={}\n",
    "        for linea in fileSent:\n",
    "            termino,valor=linea.split(\"\\t\")\n",
    "            valores[termino]=int(valor)\n",
    "        return valores\n",
    "    except:\n",
    "        print(\"Something went wrong when opening to the file\")\n",
    "    finally:\n",
    "        fileSent.close()"
   ]
  },
  {
   "cell_type": "code",
   "execution_count": 84,
   "metadata": {},
   "outputs": [],
   "source": [
    "import json\n",
    "\n",
    "def GetTweets(fileName):\n",
    "    try:\n",
    "        fileTwet=open(fileName)\n",
    "        tweets=[]\n",
    "        for linea in fileTwet:\n",
    "            if(linea[linea.find(\"{\")+2:linea.find(\":\")-1]==\"created_at\"):\n",
    "                text=linea[linea.find(\"text\")+7:linea.find(\"source\")-3]\n",
    "                tweets.append(text)\n",
    "        return tweets\n",
    "    except:\n",
    "        print(\"Something went wrong when opening to the file\")\n",
    "    finally:\n",
    "        fileTwet.close()"
   ]
  },
  {
   "cell_type": "code",
   "execution_count": 92,
   "metadata": {},
   "outputs": [],
   "source": [
    "valores=GetSentimientos(\"Sentimientos.txt\")\n",
    "for tweet in GetTweets(\"salida_tweets.txt\"):\n",
    "    sentimientoTweet=0\n",
    "    for word in tweet.split(\" \"):\n",
    "        sentimientoTweet+=valores.get(word.lower(),0)\n",
    "    #print(\"EL SIGUIENTE TWEET: '\"+tweet+\"' TIENE UN SENTIMIENTO ASOCIADO DE: \"+str(sentimientoTweet))\n",
    "    #print(\"\\n\")\n",
    "        "
   ]
  },
  {
   "cell_type": "code",
   "execution_count": null,
   "metadata": {},
   "outputs": [],
   "source": []
  }
 ],
 "metadata": {
  "kernelspec": {
   "display_name": "Python 3",
   "language": "python",
   "name": "python3"
  },
  "language_info": {
   "codemirror_mode": {
    "name": "ipython",
    "version": 3
   },
   "file_extension": ".py",
   "mimetype": "text/x-python",
   "name": "python",
   "nbconvert_exporter": "python",
   "pygments_lexer": "ipython3",
   "version": "3.7.1"
  }
 },
 "nbformat": 4,
 "nbformat_minor": 2
}
